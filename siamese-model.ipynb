{
 "cells": [
  {
   "cell_type": "code",
   "execution_count": 2,
   "metadata": {},
   "outputs": [],
   "source": [
    "import warnings\n",
    "warnings.filterwarnings(\"ignore\", category=DeprecationWarning)\n",
    "warnings.filterwarnings(\"ignore\", category=UserWarning)\n",
    "warnings.filterwarnings(\"ignore\", category=FutureWarning)\n",
    "\n",
    "import numpy as np\n",
    "import pandas as pd\n",
    "import matplotlib.pyplot as plt\n",
    "from PIL import Image\n",
    "import os\n",
    "\n",
    "import torch\n",
    "import torch.nn as nn\n",
    "import torch.optim as optim\n",
    "from torch.optim.lr_scheduler import CyclicLR, StepLR\n",
    "from torchvision import models, transforms\n",
    "from efficientnet_pytorch import EfficientNet\n",
    "from torch.utils.data import Dataset, DataLoader\n",
    "import torch.nn.functional as F\n",
    "\n",
    "from sklearn.model_selection import train_test_split\n",
    "from sklearn.utils.class_weight import compute_class_weight\n",
    "from sklearn.metrics import precision_score, recall_score, f1_score\n",
    "\n",
    "import time\n",
    "import copy\n",
    "from tqdm import tqdm"
   ]
  },
  {
   "cell_type": "code",
   "execution_count": 3,
   "metadata": {},
   "outputs": [],
   "source": [
    "# Set random seeds\n",
    "torch.manual_seed(0)\n",
    "np.random.seed(0)"
   ]
  },
  {
   "cell_type": "code",
   "execution_count": 4,
   "metadata": {},
   "outputs": [
    {
     "data": {
      "text/plain": [
       "device(type='cuda', index=0)"
      ]
     },
     "execution_count": 4,
     "metadata": {},
     "output_type": "execute_result"
    }
   ],
   "source": [
    "# Set device\n",
    "device = torch.device(\"cuda:0\" if torch.cuda.is_available() else \"cpu\")\n",
    "device"
   ]
  },
  {
   "cell_type": "code",
   "execution_count": 5,
   "metadata": {},
   "outputs": [],
   "source": [
    "# getting base_path and folder names\n",
    "base_path = \"data/IDC_regular_ps50_idx5/\"\n",
    "folder = os.listdir(base_path)"
   ]
  },
  {
   "cell_type": "code",
   "execution_count": 5,
   "metadata": {},
   "outputs": [],
   "source": [
    "# # getting total number of images\n",
    "# total_images = 0\n",
    "# for n in range(len(folder)):\n",
    "#     patient_id = folder[n]\n",
    "#     for c in [0, 1]:\n",
    "#         patient_path = base_path + patient_id \n",
    "#         class_path = patient_path + \"/\" + str(c) + \"/\"\n",
    "#         subfiles = os.listdir(class_path)\n",
    "#         total_images += len(subfiles)\n",
    "# total_images"
   ]
  },
  {
   "cell_type": "code",
   "execution_count": 6,
   "metadata": {},
   "outputs": [],
   "source": [
    "# # storing image_path, patient_id and the target\n",
    "# data = pd.DataFrame(index=np.arange(0, total_images), columns=[\"patient_id\", \"path\", \"target\"])\n",
    "\n",
    "# k = 0\n",
    "# for n in range(len(folder)):\n",
    "#     patient_id = folder[n]\n",
    "#     patient_path = base_path + patient_id \n",
    "#     for c in [0,1]:\n",
    "#         class_path = patient_path + \"/\" + str(c) + \"/\"\n",
    "#         subfiles = os.listdir(class_path)\n",
    "#         for m in range(len(subfiles)):\n",
    "#             image_path = subfiles[m]\n",
    "#             data.iloc[k][\"path\"] = class_path + image_path\n",
    "#             data.iloc[k][\"target\"] = c\n",
    "#             data.iloc[k][\"patient_id\"] = patient_id\n",
    "#             k += 1  \n",
    "\n",
    "# data.loc[:, \"target\"] = data.target.astype(np.str_)\n",
    "# data.info()\n",
    "# data.head()\n",
    "\n",
    "# # save data\n",
    "# data.to_csv(base_path + \"data\", index=False)"
   ]
  },
  {
   "cell_type": "code",
   "execution_count": 6,
   "metadata": {},
   "outputs": [
    {
     "name": "stdout",
     "output_type": "stream",
     "text": [
      "<class 'pandas.core.frame.DataFrame'>\n",
      "RangeIndex: 277270 entries, 0 to 277269\n",
      "Data columns (total 3 columns):\n",
      " #   Column      Non-Null Count   Dtype \n",
      "---  ------      --------------   ----- \n",
      " 0   patient_id  277270 non-null  int64 \n",
      " 1   path        277270 non-null  object\n",
      " 2   target      277270 non-null  int64 \n",
      "dtypes: int64(2), object(1)\n",
      "memory usage: 6.3+ MB\n"
     ]
    },
    {
     "data": {
      "text/html": [
       "<div>\n",
       "<style scoped>\n",
       "    .dataframe tbody tr th:only-of-type {\n",
       "        vertical-align: middle;\n",
       "    }\n",
       "\n",
       "    .dataframe tbody tr th {\n",
       "        vertical-align: top;\n",
       "    }\n",
       "\n",
       "    .dataframe thead th {\n",
       "        text-align: right;\n",
       "    }\n",
       "</style>\n",
       "<table border=\"1\" class=\"dataframe\">\n",
       "  <thead>\n",
       "    <tr style=\"text-align: right;\">\n",
       "      <th></th>\n",
       "      <th>patient_id</th>\n",
       "      <th>path</th>\n",
       "      <th>target</th>\n",
       "    </tr>\n",
       "  </thead>\n",
       "  <tbody>\n",
       "    <tr>\n",
       "      <th>0</th>\n",
       "      <td>13402</td>\n",
       "      <td>data/IDC_regular_ps50_idx5/13402/0/13402_idx5_...</td>\n",
       "      <td>0</td>\n",
       "    </tr>\n",
       "    <tr>\n",
       "      <th>1</th>\n",
       "      <td>13402</td>\n",
       "      <td>data/IDC_regular_ps50_idx5/13402/0/13402_idx5_...</td>\n",
       "      <td>0</td>\n",
       "    </tr>\n",
       "    <tr>\n",
       "      <th>2</th>\n",
       "      <td>13402</td>\n",
       "      <td>data/IDC_regular_ps50_idx5/13402/0/13402_idx5_...</td>\n",
       "      <td>0</td>\n",
       "    </tr>\n",
       "    <tr>\n",
       "      <th>3</th>\n",
       "      <td>13402</td>\n",
       "      <td>data/IDC_regular_ps50_idx5/13402/0/13402_idx5_...</td>\n",
       "      <td>0</td>\n",
       "    </tr>\n",
       "    <tr>\n",
       "      <th>4</th>\n",
       "      <td>13402</td>\n",
       "      <td>data/IDC_regular_ps50_idx5/13402/0/13402_idx5_...</td>\n",
       "      <td>0</td>\n",
       "    </tr>\n",
       "  </tbody>\n",
       "</table>\n",
       "</div>"
      ],
      "text/plain": [
       "   patient_id                                               path  target\n",
       "0       13402  data/IDC_regular_ps50_idx5/13402/0/13402_idx5_...       0\n",
       "1       13402  data/IDC_regular_ps50_idx5/13402/0/13402_idx5_...       0\n",
       "2       13402  data/IDC_regular_ps50_idx5/13402/0/13402_idx5_...       0\n",
       "3       13402  data/IDC_regular_ps50_idx5/13402/0/13402_idx5_...       0\n",
       "4       13402  data/IDC_regular_ps50_idx5/13402/0/13402_idx5_...       0"
      ]
     },
     "execution_count": 6,
     "metadata": {},
     "output_type": "execute_result"
    }
   ],
   "source": [
    "data = pd.read_csv(base_path + \"data\")\n",
    "data.info()\n",
    "data.head()"
   ]
  },
  {
   "cell_type": "code",
   "execution_count": 7,
   "metadata": {},
   "outputs": [],
   "source": [
    "# splitting the data into train, test and val\n",
    "patients = data.patient_id.unique()\n",
    "\n",
    "train_ids, sub_test_ids = train_test_split(patients,\n",
    "                                            test_size=0.3,\n",
    "                                            random_state=0)\n",
    "test_ids, val_ids = train_test_split(sub_test_ids, test_size=0.5, random_state=0)"
   ]
  },
  {
   "cell_type": "code",
   "execution_count": 8,
   "metadata": {},
   "outputs": [
    {
     "name": "stdout",
     "output_type": "stream",
     "text": [
      "69.89247311827957 15.053763440860216 15.053763440860216\n"
     ]
    }
   ],
   "source": [
    "print(len(train_ids)/patients.shape[0]*100, len(val_ids)/patients.shape[0]*100, len(test_ids)/patients.shape[0]*100)"
   ]
  },
  {
   "cell_type": "code",
   "execution_count": 9,
   "metadata": {},
   "outputs": [],
   "source": [
    "def extract_coords(df):\n",
    "    coord = df.path.str.rsplit(\"_\", n=4, expand=True)\n",
    "    coord = coord.drop([0, 1, 4], axis=1)\n",
    "    coord = coord.rename({2: \"x\", 3: \"y\"}, axis=1)\n",
    "    coord.loc[:, \"x\"] = coord.loc[:,\"x\"].str.replace(\"x\", \"\", case=False).astype(np.int64)\n",
    "    coord.loc[:, \"y\"] = coord.loc[:,\"y\"].str.replace(\"y\", \"\", case=False).astype(np.int64)\n",
    "    df.loc[:, \"x\"] = coord.x.values\n",
    "    df.loc[:, \"y\"] = coord.y.values\n",
    "    return df"
   ]
  },
  {
   "cell_type": "code",
   "execution_count": 10,
   "metadata": {},
   "outputs": [],
   "source": [
    "# Set paths and parameters\n",
    "data_dir = \"data\"\n",
    "\n",
    "BATCH_SIZE = 32\n",
    "NUM_CLASSES = 2\n",
    "NUM_EPOCHS = 20\n",
    "\n",
    "OUTPUT_PATH = \"\"\n",
    "MODEL_PATH = \"breast_cancer_model/\"\n",
    "LOSSES_PATH = \"breast_cancer_model/\""
   ]
  },
  {
   "cell_type": "code",
   "execution_count": 11,
   "metadata": {},
   "outputs": [],
   "source": [
    "# creating a dataframe containing the paths for the different datasets\n",
    "train_df = data.loc[data.patient_id.isin(train_ids),:].copy()\n",
    "test_df = data.loc[data.patient_id.isin(test_ids),:].copy()\n",
    "val_df = data.loc[data.patient_id.isin(val_ids),:].copy()\n",
    "\n",
    "train_df = extract_coords(train_df)\n",
    "test_df = extract_coords(test_df)\n",
    "val_df = extract_coords(val_df)"
   ]
  },
  {
   "cell_type": "code",
   "execution_count": 12,
   "metadata": {},
   "outputs": [],
   "source": [
    "# Data preprocessing and augmentation\n",
    "def my_transform(key=\"train\"):\n",
    "    train_sequence = [\n",
    "        transforms.RandomRotation(10),\n",
    "        transforms.ColorJitter(brightness=0.4, contrast=0.4, saturation=0.4, hue=0.1), # type: ignore\n",
    "        transforms.Resize((50, 50)),\n",
    "        transforms.RandomHorizontalFlip(),\n",
    "        transforms.RandomVerticalFlip()\n",
    "    ]\n",
    "    val_sequence = [\n",
    "        transforms.Resize((50, 50))\n",
    "    ]\n",
    "    \n",
    "    if key == \"train\":\n",
    "        transform = transforms.Compose(train_sequence + [\n",
    "            transforms.ToTensor(),\n",
    "            transforms.Normalize([0.485, 0.456, 0.406], [0.229, 0.224, 0.225])\n",
    "        ])\n",
    "    else:\n",
    "        transform = transforms.Compose(val_sequence + [\n",
    "            transforms.ToTensor(),\n",
    "            transforms.Normalize([0.485, 0.456, 0.406], [0.229, 0.224, 0.225])\n",
    "        ])\n",
    "    \n",
    "    return transform"
   ]
  },
  {
   "cell_type": "code",
   "execution_count": 14,
   "metadata": {},
   "outputs": [],
   "source": [
    "# Custom Dataset class\n",
    "class BreastCancerDataset(Dataset):\n",
    "    def __init__(self, df, transform=None):\n",
    "        self.states = df\n",
    "        self.transform = transform\n",
    "    \n",
    "    def __len__(self):\n",
    "        return len(self.states)\n",
    "    \n",
    "    def __getitem__(self, idx):\n",
    "        patient_id = self.states.patient_id.values[idx]\n",
    "        x_coord = self.states.x.values[idx]\n",
    "        y_coord = self.states.y.values[idx]\n",
    "        image_path = self.states.path.values[idx] \n",
    "        target = np.int64(self.states.target.values[idx]) if \"target\" in self.states.columns.values else None\n",
    "        \n",
    "        try:\n",
    "            image = Image.open(image_path).convert(\"RGB\")\n",
    "            if self.transform:\n",
    "                image = self.transform(image)\n",
    "        except (OSError, IOError) as e:\n",
    "            # print(f\"Error opening image file: {image_path}. Skipping image.\")\n",
    "            return self.__getitem__((idx + 1) % len(self))\n",
    "        \n",
    "        return {\n",
    "            \"image\": image,\n",
    "            \"label\": target,\n",
    "            \"patient_id\": patient_id,\n",
    "            \"x\": x_coord,\n",
    "            \"y\": y_coord\n",
    "        }"
   ]
  },
  {
   "cell_type": "code",
   "execution_count": 13,
   "metadata": {},
   "outputs": [],
   "source": [
    "# Custom Dataclass for SiameseDataset\n",
    "class BreastCancerSiameseDataset(Dataset):\n",
    "    def __init__(self, df, transform=None):\n",
    "        self.states = df\n",
    "        self.transform = transform\n",
    "    \n",
    "    def __len__(self):\n",
    "        return len(self.states)\n",
    "    \n",
    "    def __getitem__(self, idx):\n",
    "        patient_id = self.states.patient_id.values[idx]\n",
    "        x_coord = self.states.x.values[idx]\n",
    "        y_coord = self.states.y.values[idx]\n",
    "        image_path = self.states.path.values[idx] \n",
    "        target = np.int64(self.states.target.values[idx]) if \"target\" in self.states.columns.values else None\n",
    "        \n",
    "        try:\n",
    "            image = Image.open(image_path).convert(\"RGB\")\n",
    "            if self.transform:\n",
    "                image = self.transform(image)\n",
    "        except (OSError, IOError) as e:\n",
    "            # print(f\"Error opening image file: {image_path}. Skipping image.\")\n",
    "            return self.__getitem__((idx + 1) % len(self))\n",
    "        \n",
    "        # Select a random sample from the same class\n",
    "        random_idx = np.random.choice(np.where(self.states.target.values == target)[0])\n",
    "        random_image_path = self.states.path.values[random_idx]\n",
    "        try:\n",
    "            random_image = Image.open(random_image_path).convert(\"RGB\")\n",
    "            if self.transform:\n",
    "                random_image = self.transform(random_image)\n",
    "        except (OSError, IOError) as e:\n",
    "            # print(f\"Error opening image file: {random_image_path}. Skipping image.\")\n",
    "            return self.__getitem__((idx + 1) % len(self))\n",
    "        \n",
    "        return {\n",
    "            \"image1\": image,\n",
    "            \"image2\": random_image,\n",
    "            \"label\": target,\n",
    "            \"patient_id\": patient_id,\n",
    "            \"x\": x_coord,\n",
    "            \"y\": y_coord\n",
    "        }"
   ]
  },
  {
   "cell_type": "code",
   "execution_count": 14,
   "metadata": {},
   "outputs": [],
   "source": [
    "# # Load and split the dataset\n",
    "# train_dataset = BreastCancerDataset(train_df, transform=my_transform(key=\"train\"))\n",
    "# val_dataset = BreastCancerDataset(val_df, transform=my_transform(key=\"val\"))\n",
    "# test_dataset = BreastCancerDataset(test_df, transform=my_transform(key=\"val\"))\n",
    "\n",
    "# Load and split the dataset siamese set\n",
    "train_dataset = BreastCancerSiameseDataset(train_df, transform=my_transform(key=\"train\"))\n",
    "val_dataset = BreastCancerSiameseDataset(val_df, transform=my_transform(key=\"val\"))\n",
    "test_dataset = BreastCancerSiameseDataset(test_df, transform=my_transform(key=\"val\"))\n",
    "\n",
    "train_loader = DataLoader(train_dataset, batch_size=BATCH_SIZE, shuffle=True, num_workers=4)\n",
    "\n",
    "val_loader = DataLoader(val_dataset, batch_size=BATCH_SIZE, shuffle=False, num_workers=4)\n",
    "\n",
    "test_loader = DataLoader(test_dataset, batch_size=BATCH_SIZE, shuffle=False, num_workers=4)"
   ]
  },
  {
   "cell_type": "code",
   "execution_count": null,
   "metadata": {},
   "outputs": [],
   "source": []
  },
  {
   "cell_type": "code",
   "execution_count": 17,
   "metadata": {},
   "outputs": [],
   "source": [
    "# Define the model\n",
    "def get_model(pretrained=False):\n",
    "    model = models.resnet18(pretrained=pretrained)\n",
    "    num_ftrs = model.fc.in_features\n",
    "    model.fc = nn.Linear(num_ftrs, NUM_CLASSES)\n",
    "    return model"
   ]
  },
  {
   "cell_type": "code",
   "execution_count": 18,
   "metadata": {},
   "outputs": [],
   "source": [
    "def get_resnet18(pretrained=False):\n",
    "    model = models.resnet18(pretrained=pretrained)\n",
    "    num_ftrs = model.fc.in_features\n",
    "    model.fc = nn.Sequential(\n",
    "        nn.Linear(num_ftrs, 512),\n",
    "        nn.ReLU(inplace=True),\n",
    "        nn.Linear(512, 256),\n",
    "        nn.ReLU(inplace=True),\n",
    "        nn.Linear(256, NUM_CLASSES)\n",
    "    )\n",
    "    return model"
   ]
  },
  {
   "cell_type": "code",
   "execution_count": 19,
   "metadata": {},
   "outputs": [],
   "source": [
    "def get_resnet50(pretrained=False):\n",
    "    model = models.resnet50(pretrained=pretrained)\n",
    "    num_ftrs = model.fc.in_features\n",
    "    model.fc = nn.Sequential(\n",
    "        nn.Linear(num_ftrs, 1024),\n",
    "        nn.ReLU(inplace=True),\n",
    "        nn.Linear(1024, 512),\n",
    "        nn.ReLU(inplace=True),\n",
    "        nn.Linear(512, 256),\n",
    "        nn.ReLU(inplace=True),\n",
    "        nn.Linear(256, NUM_CLASSES)\n",
    "    )\n",
    "    return model"
   ]
  },
  {
   "cell_type": "code",
   "execution_count": 15,
   "metadata": {},
   "outputs": [],
   "source": [
    "# Define the Siamese CNN architecture\n",
    "class SiameseCNN(nn.Module):\n",
    "    def __init__(self):\n",
    "        super(SiameseCNN, self).__init__()\n",
    "        self.feature_extractor = models.resnet50(pretrained=True)\n",
    "        num_ftrs = self.feature_extractor.fc.in_features\n",
    "        self.feature_extractor.fc = nn.Linear(num_ftrs, 1024)\n",
    "        self.classifier = nn.Sequential(\n",
    "            nn.Linear(1024, 512),\n",
    "            nn.ReLU(inplace=True),\n",
    "            nn.Linear(512, 256),\n",
    "            nn.ReLU(inplace=True),\n",
    "            nn.Linear(256, NUM_CLASSES)\n",
    "        )\n",
    "\n",
    "    def forward(self, x1, x2):\n",
    "        feat1 = self.feature_extractor(x1)\n",
    "        feat2 = self.feature_extractor(x2)\n",
    "        out1 = self.classifier(feat1)\n",
    "        out2 = self.classifier(feat2)\n",
    "        return out1, out2"
   ]
  },
  {
   "cell_type": "code",
   "execution_count": 21,
   "metadata": {},
   "outputs": [],
   "source": [
    "def get_inceptionv3(pretrained=False):\n",
    "    model = models.inception_v3(pretrained=pretrained)\n",
    "    num_ftrs = model.fc.in_features\n",
    "    aux_in_features = model.AuxLogits.fc.in_features\n",
    "\n",
    "    model.fc = nn.Sequential(\n",
    "        nn.Linear(num_ftrs, 512),\n",
    "        nn.ReLU(inplace=True),\n",
    "        nn.Linear(512, 256),\n",
    "        nn.ReLU(inplace=True),\n",
    "        nn.Linear(256, NUM_CLASSES)\n",
    "    )\n",
    "    model.AuxLogits.fc = nn.Sequential(\n",
    "        nn.Linear(aux_in_features, 128),\n",
    "        nn.ReLU(inplace=True),\n",
    "        nn.Linear(128, 64),\n",
    "        nn.ReLU(inplace=True),\n",
    "        nn.Linear(64, NUM_CLASSES)\n",
    "    )\n",
    "    return model"
   ]
  },
  {
   "cell_type": "code",
   "execution_count": 22,
   "metadata": {},
   "outputs": [],
   "source": [
    "def get_densenet(pretrained=False):\n",
    "    model = models.densenet121(pretrained=pretrained)\n",
    "    num_ftrs = model.classifier.in_features\n",
    "    model.classifier = nn.Sequential(\n",
    "        nn.Linear(num_ftrs, 512),\n",
    "        nn.ReLU(inplace=True),\n",
    "        nn.Linear(512, 256),\n",
    "        nn.ReLU(inplace=True),\n",
    "        nn.Linear(256, NUM_CLASSES)\n",
    "    )\n",
    "    return model"
   ]
  },
  {
   "cell_type": "code",
   "execution_count": 23,
   "metadata": {},
   "outputs": [],
   "source": [
    "def get_efficientnet(pretrained=False):\n",
    "    model = EfficientNet.from_pretrained(\"efficientnet-b0\") if pretrained else EfficientNet.from_name(\"efficientnet-b0\")\n",
    "    num_ftrs = model._fc.in_features\n",
    "    model._fc = nn.Sequential(\n",
    "        nn.Linear(num_ftrs, 512),\n",
    "        nn.ReLU(inplace=True),\n",
    "        nn.Linear(512, 256),\n",
    "        nn.ReLU(inplace=True),\n",
    "        nn.Linear(256, NUM_CLASSES)\n",
    "    )\n",
    "    return model"
   ]
  },
  {
   "cell_type": "code",
   "execution_count": 24,
   "metadata": {},
   "outputs": [],
   "source": [
    "def get_squeezenet(pretrained=False):\n",
    "    model = models.squeezenet1_1(pretrained=pretrained)\n",
    "    model.num_classes = NUM_CLASSES\n",
    "    model.classifier[1] = nn.Sequential(\n",
    "        nn.Conv2d(512, 256, kernel_size=1),\n",
    "        nn.ReLU(inplace=True),\n",
    "        nn.Dropout(p=0.5),\n",
    "    )\n",
    "    model.classifier[3] = nn.Conv2d(256, NUM_CLASSES, kernel_size=1)\n",
    "    model.num_classes = NUM_CLASSES\n",
    "    return model"
   ]
  },
  {
   "cell_type": "code",
   "execution_count": 16,
   "metadata": {},
   "outputs": [],
   "source": [
    "# Model initialization\n",
    "\n",
    "# model = get_resnet18(pretrained=False)\n",
    "# model = get_resnet50(pretrained=False)\n",
    "# model = get_inceptionv3(pretrained=False)\n",
    "# model = get_densenet(pretrained=False)\n",
    "# model = get_efficientnet(pretrained=False)\n",
    "# model = get_squeezenet(pretrained=False)\n",
    "# Create an instance of the Siamese CNN model\n",
    "model = SiameseCNN()\n",
    "model.to(device)\n",
    "\n",
    "\n",
    "# model_type = \"resnet18\"\n",
    "# model_type = \"resnet50\"\n",
    "# model_type = \"inceptionv3\"\n",
    "# model_type = \"densenet\"\n",
    "# model_type = \"efficientnet\"\n",
    "# model_type = \"squeezenet\"\n",
    "model_type = \"siamese-cnn\"\n",
    "\n",
    "version = \"v1\"\n",
    "\n",
    "# Comment when doing Siamese model\n",
    "# model = model.to(device)"
   ]
  },
  {
   "cell_type": "code",
   "execution_count": 26,
   "metadata": {},
   "outputs": [],
   "source": [
    "# weights = compute_class_weight(y=train_df[\"target\"].values, class_weight=\"balanced\", classes=train_df[\"target\"].unique())    \n",
    "# class_weights = torch.FloatTensor(weights)\n",
    "# if device.type==\"cuda\":\n",
    "#     class_weights = class_weights.cuda()\n",
    "# print(class_weights)"
   ]
  },
  {
   "cell_type": "code",
   "execution_count": 17,
   "metadata": {},
   "outputs": [],
   "source": [
    "# Define the loss function and optimizer\n",
    "criterion = nn.CrossEntropyLoss()\n",
    "# criterion = nn.CrossEntropyLoss(weight=class_weights)\n",
    "# parameters = list(model.parameters())  # Get the model's parameters as a list\n",
    "# optimizer = optim.Adam(parameters, lr=0.001)\n",
    "# optimizer = optim.Adam(model.parameters(), lr=0.001)\n",
    "# optimizer = optim.SGD(model.fc.parameters(), lr=0.01)\n",
    "optimizer = optim.SGD(model.parameters(), lr=0.01)"
   ]
  },
  {
   "cell_type": "code",
   "execution_count": 18,
   "metadata": {},
   "outputs": [],
   "source": [
    "# Define the learning rate range for cyclic LR\n",
    "base_lr = 1e-6\n",
    "max_lr = 0.006\n",
    "\n",
    "# Set up the cyclic learning rate scheduler\n",
    "# step_size = len(train_loader) * 2  # Number of iterations per half cycle\n",
    "# step_size = NUM_EPOCHS * 2  # Number of iterations per half cycle\n",
    "# scheduler = CyclicLR(optimizer, base_lr=base_lr, max_lr=max_lr, step_size_up=step_size)  # Learning rate scheduler\n",
    "scheduler = StepLR(optimizer, step_size=10, gamma=0.1)  # Learning rate scheduler"
   ]
  },
  {
   "cell_type": "code",
   "execution_count": null,
   "metadata": {},
   "outputs": [],
   "source": [
    "# Define the loss function and optimizer\n",
    "criterion = nn.CrossEntropyLoss()\n",
    "optimizer = optim.SGD(model.parameters(), lr=0.01)\n",
    "\n",
    "# Define the learning rate range for stepLR\n",
    "scheduler = StepLR(optimizer, step_size=10, gamma=0.1)  # Learning rate scheduler"
   ]
  },
  {
   "cell_type": "code",
   "execution_count": 29,
   "metadata": {},
   "outputs": [],
   "source": [
    "def train_model(model, criterion, optimizer, scheduler, train_loader, val_loader, test_loader, device, num_epochs=10):\n",
    "    best_model_wts = copy.deepcopy(model.state_dict())\n",
    "    best_acc = 0.0\n",
    "    losses = {\"train\": [], \"val\": [], \"test\": []}\n",
    "    accuracies = {\"train\": [], \"val\": [], \"test\": []}\n",
    "    precisions = []\n",
    "    f1_scores = []\n",
    "    recalls = []\n",
    "    \n",
    "    for epoch in range(num_epochs):\n",
    "        print(\"=\" * 80)\n",
    "        print(f\"Epoch {epoch+1}/{num_epochs}\")\n",
    "        print(\"=\" * 80)\n",
    "        \n",
    "        for phase in [\"train\", \"val\"]:\n",
    "            if phase == \"train\":\n",
    "                model.train()\n",
    "                dataloader = train_loader\n",
    "            else:\n",
    "                model.eval()\n",
    "                dataloader = val_loader\n",
    "            \n",
    "            running_loss = 0.0\n",
    "            running_corrects = 0\n",
    "            \n",
    "            progress_bar = tqdm(dataloader, desc=f\"{phase} Batch\", leave=False)\n",
    "            for data in progress_bar:\n",
    "                inputs = data[\"image\"].to(device)\n",
    "                labels = data[\"label\"].to(device)\n",
    "                \n",
    "                optimizer.zero_grad()\n",
    "                \n",
    "                with torch.set_grad_enabled(phase == \"train\"):\n",
    "                    outputs = model(inputs)\n",
    "                    _, preds = torch.max(outputs, 1)\n",
    "                    loss = criterion(outputs, labels)\n",
    "                    \n",
    "                    if phase == \"train\":\n",
    "                        loss.backward()\n",
    "                        optimizer.step()\n",
    "                \n",
    "                running_loss += loss.item() * inputs.size(0)\n",
    "                running_corrects += torch.sum(preds == labels.data)\n",
    "                \n",
    "                # Update the progress bar description\n",
    "                progress_bar.set_postfix(loss=loss.item())\n",
    "            \n",
    "            epoch_loss = running_loss / len(dataloader.dataset)\n",
    "            epoch_acc = running_corrects.double() / len(dataloader.dataset) # type: ignore\n",
    "            \n",
    "            losses[phase].append(epoch_loss)\n",
    "            accuracies[phase].append(epoch_acc)\n",
    "            \n",
    "            print(f\"{phase} Loss: {epoch_loss*100:.2f} Acc: {epoch_acc*100:.2f}\")\n",
    "            \n",
    "            if phase == \"val\" and epoch_acc > best_acc:\n",
    "                best_acc = epoch_acc\n",
    "                best_model_wts = copy.deepcopy(model.state_dict())\n",
    "        \n",
    "        # Evaluate on the test set\n",
    "        model.eval()\n",
    "        running_test_loss = 0.0\n",
    "        running_test_corrects = 0\n",
    "        test_preds = []\n",
    "        test_labels = []\n",
    "        \n",
    "        progress_bar = tqdm(test_loader, desc=\"Test Batch\", leave=False)\n",
    "        for data in progress_bar:\n",
    "            inputs = data[\"image\"].to(device)\n",
    "            labels = data[\"label\"].to(device)\n",
    "            \n",
    "            with torch.no_grad():\n",
    "                outputs = model(inputs)\n",
    "                _, preds = torch.max(outputs, 1)\n",
    "                loss = criterion(outputs, labels)\n",
    "            \n",
    "            running_test_loss += loss.item() * inputs.size(0)\n",
    "            running_test_corrects += torch.sum(preds == labels.data)\n",
    "            \n",
    "            test_preds.extend(preds.cpu().numpy())\n",
    "            test_labels.extend(labels.cpu().numpy())\n",
    "            \n",
    "            # Update the progress bar description\n",
    "            progress_bar.set_postfix(loss=loss.item())\n",
    "        \n",
    "        test_loss = running_test_loss / len(test_loader.dataset)\n",
    "        test_acc = running_test_corrects.double() / len(test_loader.dataset) # type: ignore\n",
    "        test_precision = precision_score(test_labels, test_preds, average=\"macro\")\n",
    "        test_recall = recall_score(test_labels, test_preds, average=\"macro\")\n",
    "        test_f1 = f1_score(test_labels, test_preds, average=\"macro\")\n",
    "        \n",
    "        losses[\"test\"].append(test_loss)\n",
    "        accuracies[\"test\"].append(test_acc)\n",
    "        precisions.append(test_precision)\n",
    "        recalls.append(test_recall)\n",
    "        f1_scores.append(test_f1)\n",
    "        \n",
    "        print(f\"Test Loss: {test_loss*100:.2f} Acc: {test_acc*100:.2f}\")\n",
    "        print(f\"Test Precision: {test_precision*100:.2f}\")\n",
    "        print(f\"Test Recall: {test_recall*100:.2f}\")\n",
    "        print(f\"Test F1 Score: {test_f1*100:.2f}\")\n",
    "        \n",
    "        scheduler.step(test_acc)\n",
    "    \n",
    "    model.load_state_dict(best_model_wts)\n",
    "    return model, losses, accuracies, precisions, recalls, f1_scores"
   ]
  },
  {
   "cell_type": "code",
   "execution_count": 19,
   "metadata": {},
   "outputs": [],
   "source": [
    "def train_model_siamese(model, criterion, optimizer, scheduler, train_loader, val_loader, test_loader, device, num_epochs=10):\n",
    "    best_model_wts = copy.deepcopy(model.state_dict())\n",
    "    best_acc = 0.0\n",
    "    losses = {\"train\": [], \"val\": [], \"test\": []}\n",
    "    accuracies = {\"train\": [], \"val\": [], \"test\": []}\n",
    "    precisions = []\n",
    "    recalls = []\n",
    "    f1_scores = []\n",
    "    \n",
    "    for epoch in range(num_epochs):\n",
    "        print(\"=\" * 80)\n",
    "        print(f\"Epoch {epoch+1}/{num_epochs}\")\n",
    "        print(\"=\" * 80)\n",
    "        \n",
    "        for phase in [\"train\", \"val\"]:\n",
    "            if phase == \"train\":\n",
    "                model.train()\n",
    "                dataloader = train_loader\n",
    "            else:\n",
    "                model.eval()\n",
    "                dataloader = val_loader\n",
    "            \n",
    "            running_loss = 0.0\n",
    "            running_corrects = 0\n",
    "            \n",
    "            progress_bar = tqdm(dataloader, desc=f\"{phase} Batch\", leave=False)\n",
    "            for data in progress_bar:\n",
    "                inputs1 = data[\"image1\"].to(device)\n",
    "                inputs2 = data[\"image2\"].to(device)\n",
    "                labels = data[\"label\"].to(device)\n",
    "                \n",
    "                optimizer.zero_grad()\n",
    "                \n",
    "                with torch.set_grad_enabled(phase == \"train\"):\n",
    "                    outputs1, outputs2 = model(inputs1, inputs2)\n",
    "                    _, preds1 = torch.max(outputs1, 1)\n",
    "                    _, preds2 = torch.max(outputs2, 1)\n",
    "                    loss = criterion(outputs1, labels) + criterion(outputs2, labels)\n",
    "                    \n",
    "                    if phase == \"train\":\n",
    "                        loss.backward()\n",
    "                        optimizer.step()\n",
    "                \n",
    "                running_loss += loss.item() * inputs1.size(0)\n",
    "                running_corrects += torch.sum(preds1 == labels.data) + torch.sum(preds2 == labels.data)\n",
    "                \n",
    "                # Update the progress bar description\n",
    "                progress_bar.set_postfix(loss=loss.item())\n",
    "            \n",
    "            epoch_loss = running_loss / len(dataloader.dataset)\n",
    "            epoch_acc = running_corrects.double() / (2 * len(dataloader.dataset))  # Since we have two predictions per pair\n",
    "            \n",
    "            losses[phase].append(epoch_loss)\n",
    "            accuracies[phase].append(epoch_acc)\n",
    "            \n",
    "            print(f\"{phase} Loss: {epoch_loss*100:.2f} Acc: {epoch_acc*100:.2f}\")\n",
    "            \n",
    "            if phase == \"val\" and epoch_acc > best_acc:\n",
    "                best_acc = epoch_acc\n",
    "                best_model_wts = copy.deepcopy(model.state_dict())\n",
    "        \n",
    "        # Evaluate on the test set\n",
    "        model.eval()\n",
    "        running_test_loss = 0.0\n",
    "        running_test_corrects = 0\n",
    "        test_preds = []\n",
    "        test_labels = []\n",
    "        \n",
    "        progress_bar = tqdm(test_loader, desc=\"Test Batch\", leave=False)\n",
    "        for data in progress_bar:\n",
    "            inputs1 = data[\"image1\"].to(device)\n",
    "            inputs2 = data[\"image2\"].to(device)\n",
    "            labels = data[\"label\"].to(device)\n",
    "            \n",
    "            with torch.no_grad():\n",
    "                outputs1, outputs2 = model(inputs1, inputs2)\n",
    "                _, preds1 = torch.max(outputs1, 1)\n",
    "                _, preds2 = torch.max(outputs2, 1)\n",
    "                loss = criterion(outputs1, labels) + criterion(outputs2, labels)\n",
    "            \n",
    "            running_test_loss += loss.item() * inputs1.size(0)\n",
    "            running_test_corrects += torch.sum(preds1 == labels.data) + torch.sum(preds2 == labels.data)\n",
    "            \n",
    "            test_preds.extend(preds1.cpu().numpy())\n",
    "            test_labels.extend(labels.cpu().numpy())\n",
    "            \n",
    "            # Update the progress bar description\n",
    "            progress_bar.set_postfix(loss=loss.item())\n",
    "        \n",
    "        test_loss = running_test_loss / len(test_loader.dataset)\n",
    "        test_acc = running_test_corrects.double() / (2 * len(test_loader.dataset))  # Since we have two predictions per pair\n",
    "        test_precision = precision_score(test_labels, test_preds, average=\"macro\")\n",
    "        test_recall = recall_score(test_labels, test_preds, average=\"macro\")\n",
    "        test_f1 = f1_score(test_labels, test_preds, average=\"macro\")\n",
    "        \n",
    "        losses[\"test\"].append(test_loss)\n",
    "        accuracies[\"test\"].append(test_acc)\n",
    "        precisions.append(test_precision)\n",
    "        recalls.append(test_recall)\n",
    "        f1_scores.append(test_f1)\n",
    "        \n",
    "        print(f\"Test Loss: {test_loss*100:.2f} Acc: {test_acc*100:.2f}\")\n",
    "        print(f\"Test Precision: {test_precision*100:.2f}\")\n",
    "        print(f\"Test Recall: {test_recall*100:.2f}\")\n",
    "        print(f\"Test F1 Score: {test_f1*100:.2f}\")\n",
    "        \n",
    "        scheduler.step(test_acc)\n",
    "    \n",
    "    model.load_state_dict(best_model_wts)\n",
    "    return model, losses, accuracies, precisions, recalls, f1_scores"
   ]
  },
  {
   "cell_type": "code",
   "execution_count": 31,
   "metadata": {},
   "outputs": [
    {
     "name": "stdout",
     "output_type": "stream",
     "text": [
      "================================================================================\n",
      "Epoch 1/20\n",
      "================================================================================\n"
     ]
    },
    {
     "name": "stderr",
     "output_type": "stream",
     "text": [
      "                                                                            \r"
     ]
    },
    {
     "name": "stdout",
     "output_type": "stream",
     "text": [
      "train Loss: 66.59 Acc: 85.81\n"
     ]
    },
    {
     "name": "stderr",
     "output_type": "stream",
     "text": [
      "                                                                          \r"
     ]
    },
    {
     "name": "stdout",
     "output_type": "stream",
     "text": [
      "val Loss: 61.67 Acc: 86.76\n"
     ]
    },
    {
     "name": "stderr",
     "output_type": "stream",
     "text": [
      "                                                                           \r"
     ]
    },
    {
     "name": "stdout",
     "output_type": "stream",
     "text": [
      "Test Loss: 59.54 Acc: 87.27\n",
      "Test Precision: 85.26\n",
      "Test Recall: 84.67\n",
      "Test F1 Score: 84.95\n",
      "================================================================================\n",
      "Epoch 2/20\n",
      "================================================================================\n"
     ]
    },
    {
     "name": "stderr",
     "output_type": "stream",
     "text": [
      "                                                                            \r"
     ]
    },
    {
     "name": "stdout",
     "output_type": "stream",
     "text": [
      "train Loss: 59.46 Acc: 87.47\n"
     ]
    },
    {
     "name": "stderr",
     "output_type": "stream",
     "text": [
      "                                                                          \r"
     ]
    },
    {
     "name": "stdout",
     "output_type": "stream",
     "text": [
      "val Loss: 58.70 Acc: 87.38\n"
     ]
    },
    {
     "name": "stderr",
     "output_type": "stream",
     "text": [
      "                                                                           \r"
     ]
    },
    {
     "name": "stdout",
     "output_type": "stream",
     "text": [
      "Test Loss: 59.20 Acc: 87.24\n",
      "Test Precision: 86.38\n",
      "Test Recall: 83.04\n",
      "Test F1 Score: 84.42\n",
      "================================================================================\n",
      "Epoch 3/20\n",
      "================================================================================\n"
     ]
    },
    {
     "name": "stderr",
     "output_type": "stream",
     "text": [
      "                                                                            \r"
     ]
    },
    {
     "name": "stdout",
     "output_type": "stream",
     "text": [
      "train Loss: 56.65 Acc: 88.15\n"
     ]
    },
    {
     "name": "stderr",
     "output_type": "stream",
     "text": [
      "                                                                           \r"
     ]
    },
    {
     "name": "stdout",
     "output_type": "stream",
     "text": [
      "val Loss: 56.91 Acc: 87.97\n"
     ]
    },
    {
     "name": "stderr",
     "output_type": "stream",
     "text": [
      "                                                                           \r"
     ]
    },
    {
     "name": "stdout",
     "output_type": "stream",
     "text": [
      "Test Loss: 55.69 Acc: 88.19\n",
      "Test Precision: 86.46\n",
      "Test Recall: 85.25\n",
      "Test F1 Score: 85.81\n",
      "================================================================================\n",
      "Epoch 4/20\n",
      "================================================================================\n"
     ]
    },
    {
     "name": "stderr",
     "output_type": "stream",
     "text": [
      "                                                                            \r"
     ]
    },
    {
     "name": "stdout",
     "output_type": "stream",
     "text": [
      "train Loss: 55.22 Acc: 88.37\n"
     ]
    },
    {
     "name": "stderr",
     "output_type": "stream",
     "text": [
      "                                                                          \r"
     ]
    },
    {
     "name": "stdout",
     "output_type": "stream",
     "text": [
      "val Loss: 58.32 Acc: 87.57\n"
     ]
    },
    {
     "name": "stderr",
     "output_type": "stream",
     "text": [
      "                                                                            \r"
     ]
    },
    {
     "name": "stdout",
     "output_type": "stream",
     "text": [
      "Test Loss: 56.82 Acc: 88.09\n",
      "Test Precision: 86.64\n",
      "Test Recall: 84.87\n",
      "Test F1 Score: 85.67\n",
      "================================================================================\n",
      "Epoch 5/20\n",
      "================================================================================\n"
     ]
    },
    {
     "name": "stderr",
     "output_type": "stream",
     "text": [
      "                                                                            \r"
     ]
    },
    {
     "name": "stdout",
     "output_type": "stream",
     "text": [
      "train Loss: 53.65 Acc: 88.75\n"
     ]
    },
    {
     "name": "stderr",
     "output_type": "stream",
     "text": [
      "                                                                           \r"
     ]
    },
    {
     "name": "stdout",
     "output_type": "stream",
     "text": [
      "val Loss: 55.85 Acc: 88.30\n"
     ]
    },
    {
     "name": "stderr",
     "output_type": "stream",
     "text": [
      "                                                                           \r"
     ]
    },
    {
     "name": "stdout",
     "output_type": "stream",
     "text": [
      "Test Loss: 57.96 Acc: 87.73\n",
      "Test Precision: 86.36\n",
      "Test Recall: 84.23\n",
      "Test F1 Score: 85.17\n",
      "================================================================================\n",
      "Epoch 6/20\n",
      "================================================================================\n"
     ]
    },
    {
     "name": "stderr",
     "output_type": "stream",
     "text": [
      "                                                                            \r"
     ]
    },
    {
     "name": "stdout",
     "output_type": "stream",
     "text": [
      "train Loss: 52.63 Acc: 89.02\n"
     ]
    },
    {
     "name": "stderr",
     "output_type": "stream",
     "text": [
      "                                                                          \r"
     ]
    },
    {
     "name": "stdout",
     "output_type": "stream",
     "text": [
      "val Loss: 61.83 Acc: 86.74\n"
     ]
    },
    {
     "name": "stderr",
     "output_type": "stream",
     "text": [
      "                                                                           \r"
     ]
    },
    {
     "name": "stdout",
     "output_type": "stream",
     "text": [
      "Test Loss: 60.48 Acc: 86.97\n",
      "Test Precision: 84.26\n",
      "Test Recall: 86.60\n",
      "Test F1 Score: 85.22\n",
      "================================================================================\n",
      "Epoch 7/20\n",
      "================================================================================\n"
     ]
    },
    {
     "name": "stderr",
     "output_type": "stream",
     "text": [
      "                                                                            \r"
     ]
    },
    {
     "name": "stdout",
     "output_type": "stream",
     "text": [
      "train Loss: 51.43 Acc: 89.26\n"
     ]
    },
    {
     "name": "stderr",
     "output_type": "stream",
     "text": [
      "                                                                          \r"
     ]
    },
    {
     "name": "stdout",
     "output_type": "stream",
     "text": [
      "val Loss: 59.09 Acc: 87.59\n"
     ]
    },
    {
     "name": "stderr",
     "output_type": "stream",
     "text": [
      "                                                                            \r"
     ]
    },
    {
     "name": "stdout",
     "output_type": "stream",
     "text": [
      "Test Loss: 57.48 Acc: 87.88\n",
      "Test Precision: 85.60\n",
      "Test Recall: 85.94\n",
      "Test F1 Score: 85.77\n",
      "================================================================================\n",
      "Epoch 8/20\n",
      "================================================================================\n"
     ]
    },
    {
     "name": "stderr",
     "output_type": "stream",
     "text": [
      "                                                                            \r"
     ]
    },
    {
     "name": "stdout",
     "output_type": "stream",
     "text": [
      "train Loss: 50.47 Acc: 89.45\n"
     ]
    },
    {
     "name": "stderr",
     "output_type": "stream",
     "text": [
      "                                                                           \r"
     ]
    },
    {
     "name": "stdout",
     "output_type": "stream",
     "text": [
      "val Loss: 58.19 Acc: 87.97\n"
     ]
    },
    {
     "name": "stderr",
     "output_type": "stream",
     "text": [
      "                                                                            \r"
     ]
    },
    {
     "name": "stdout",
     "output_type": "stream",
     "text": [
      "Test Loss: 57.42 Acc: 87.99\n",
      "Test Precision: 86.36\n",
      "Test Recall: 85.02\n",
      "Test F1 Score: 85.64\n",
      "================================================================================\n",
      "Epoch 9/20\n",
      "================================================================================\n"
     ]
    },
    {
     "name": "stderr",
     "output_type": "stream",
     "text": [
      "                                                                            \r"
     ]
    },
    {
     "name": "stdout",
     "output_type": "stream",
     "text": [
      "train Loss: 49.78 Acc: 89.65\n"
     ]
    },
    {
     "name": "stderr",
     "output_type": "stream",
     "text": [
      "                                                                           \r"
     ]
    },
    {
     "name": "stdout",
     "output_type": "stream",
     "text": [
      "val Loss: 61.29 Acc: 87.56\n"
     ]
    },
    {
     "name": "stderr",
     "output_type": "stream",
     "text": [
      "                                                                           \r"
     ]
    },
    {
     "name": "stdout",
     "output_type": "stream",
     "text": [
      "Test Loss: 58.24 Acc: 87.93\n",
      "Test Precision: 85.94\n",
      "Test Recall: 85.69\n",
      "Test F1 Score: 85.81\n",
      "================================================================================\n",
      "Epoch 10/20\n",
      "================================================================================\n"
     ]
    },
    {
     "name": "stderr",
     "output_type": "stream",
     "text": [
      "                                                                            \r"
     ]
    },
    {
     "name": "stdout",
     "output_type": "stream",
     "text": [
      "train Loss: 48.64 Acc: 89.90\n"
     ]
    },
    {
     "name": "stderr",
     "output_type": "stream",
     "text": [
      "                                                                           \r"
     ]
    },
    {
     "name": "stdout",
     "output_type": "stream",
     "text": [
      "val Loss: 63.37 Acc: 87.37\n"
     ]
    },
    {
     "name": "stderr",
     "output_type": "stream",
     "text": [
      "                                                                            \r"
     ]
    },
    {
     "name": "stdout",
     "output_type": "stream",
     "text": [
      "Test Loss: 59.49 Acc: 87.83\n",
      "Test Precision: 85.76\n",
      "Test Recall: 85.62\n",
      "Test F1 Score: 85.69\n",
      "================================================================================\n",
      "Epoch 11/20\n",
      "================================================================================\n"
     ]
    },
    {
     "name": "stderr",
     "output_type": "stream",
     "text": [
      "                                                                            \r"
     ]
    },
    {
     "name": "stdout",
     "output_type": "stream",
     "text": [
      "train Loss: 47.82 Acc: 90.06\n"
     ]
    },
    {
     "name": "stderr",
     "output_type": "stream",
     "text": [
      "                                                                          \r"
     ]
    },
    {
     "name": "stdout",
     "output_type": "stream",
     "text": [
      "val Loss: 60.69 Acc: 87.70\n"
     ]
    },
    {
     "name": "stderr",
     "output_type": "stream",
     "text": [
      "                                                                           \r"
     ]
    },
    {
     "name": "stdout",
     "output_type": "stream",
     "text": [
      "Test Loss: 62.16 Acc: 87.60\n",
      "Test Precision: 85.50\n",
      "Test Recall: 84.82\n",
      "Test F1 Score: 85.14\n",
      "================================================================================\n",
      "Epoch 12/20\n",
      "================================================================================\n"
     ]
    },
    {
     "name": "stderr",
     "output_type": "stream",
     "text": [
      "                                                                            \r"
     ]
    },
    {
     "name": "stdout",
     "output_type": "stream",
     "text": [
      "train Loss: 47.29 Acc: 90.19\n"
     ]
    },
    {
     "name": "stderr",
     "output_type": "stream",
     "text": [
      "                                                                          \r"
     ]
    },
    {
     "name": "stdout",
     "output_type": "stream",
     "text": [
      "val Loss: 65.57 Acc: 87.07\n"
     ]
    },
    {
     "name": "stderr",
     "output_type": "stream",
     "text": [
      "                                                                           \r"
     ]
    },
    {
     "name": "stdout",
     "output_type": "stream",
     "text": [
      "Test Loss: 61.87 Acc: 87.05\n",
      "Test Precision: 84.71\n",
      "Test Recall: 85.60\n",
      "Test F1 Score: 85.13\n",
      "================================================================================\n",
      "Epoch 13/20\n",
      "================================================================================\n"
     ]
    },
    {
     "name": "stderr",
     "output_type": "stream",
     "text": [
      "                                                                            \r"
     ]
    },
    {
     "name": "stdout",
     "output_type": "stream",
     "text": [
      "train Loss: 46.32 Acc: 90.48\n"
     ]
    },
    {
     "name": "stderr",
     "output_type": "stream",
     "text": [
      "                                                                          \r"
     ]
    },
    {
     "name": "stdout",
     "output_type": "stream",
     "text": [
      "val Loss: 60.28 Acc: 87.62\n"
     ]
    },
    {
     "name": "stderr",
     "output_type": "stream",
     "text": [
      "                                                                            \r"
     ]
    },
    {
     "name": "stdout",
     "output_type": "stream",
     "text": [
      "Test Loss: 60.11 Acc: 87.71\n",
      "Test Precision: 85.92\n",
      "Test Recall: 84.73\n",
      "Test F1 Score: 85.29\n",
      "================================================================================\n",
      "Epoch 14/20\n",
      "================================================================================\n"
     ]
    },
    {
     "name": "stderr",
     "output_type": "stream",
     "text": [
      "                                                                            \r"
     ]
    },
    {
     "name": "stdout",
     "output_type": "stream",
     "text": [
      "train Loss: 45.86 Acc: 90.54\n"
     ]
    },
    {
     "name": "stderr",
     "output_type": "stream",
     "text": [
      "                                                                           \r"
     ]
    },
    {
     "name": "stdout",
     "output_type": "stream",
     "text": [
      "val Loss: 62.40 Acc: 87.37\n"
     ]
    },
    {
     "name": "stderr",
     "output_type": "stream",
     "text": [
      "                                                                            \r"
     ]
    },
    {
     "name": "stdout",
     "output_type": "stream",
     "text": [
      "Test Loss: 60.34 Acc: 87.31\n",
      "Test Precision: 85.73\n",
      "Test Recall: 84.14\n",
      "Test F1 Score: 84.86\n",
      "================================================================================\n",
      "Epoch 15/20\n",
      "================================================================================\n"
     ]
    },
    {
     "name": "stderr",
     "output_type": "stream",
     "text": [
      "                                                                            \r"
     ]
    },
    {
     "name": "stdout",
     "output_type": "stream",
     "text": [
      "train Loss: 44.74 Acc: 90.80\n"
     ]
    },
    {
     "name": "stderr",
     "output_type": "stream",
     "text": [
      "                                                                           \r"
     ]
    },
    {
     "name": "stdout",
     "output_type": "stream",
     "text": [
      "val Loss: 63.63 Acc: 87.16\n"
     ]
    },
    {
     "name": "stderr",
     "output_type": "stream",
     "text": [
      "                                                                            \r"
     ]
    },
    {
     "name": "stdout",
     "output_type": "stream",
     "text": [
      "Test Loss: 63.86 Acc: 87.31\n",
      "Test Precision: 85.09\n",
      "Test Recall: 85.20\n",
      "Test F1 Score: 85.14\n",
      "================================================================================\n",
      "Epoch 16/20\n",
      "================================================================================\n"
     ]
    },
    {
     "name": "stderr",
     "output_type": "stream",
     "text": [
      "                                                                            \r"
     ]
    },
    {
     "name": "stdout",
     "output_type": "stream",
     "text": [
      "train Loss: 44.18 Acc: 90.94\n"
     ]
    },
    {
     "name": "stderr",
     "output_type": "stream",
     "text": [
      "                                                                           \r"
     ]
    },
    {
     "name": "stdout",
     "output_type": "stream",
     "text": [
      "val Loss: 68.65 Acc: 86.80\n"
     ]
    },
    {
     "name": "stderr",
     "output_type": "stream",
     "text": [
      "                                                                           \r"
     ]
    },
    {
     "name": "stdout",
     "output_type": "stream",
     "text": [
      "Test Loss: 64.60 Acc: 86.99\n",
      "Test Precision: 84.59\n",
      "Test Recall: 85.97\n",
      "Test F1 Score: 85.22\n",
      "================================================================================\n",
      "Epoch 17/20\n",
      "================================================================================\n"
     ]
    },
    {
     "name": "stderr",
     "output_type": "stream",
     "text": [
      "                                                                            \r"
     ]
    },
    {
     "name": "stdout",
     "output_type": "stream",
     "text": [
      "train Loss: 43.47 Acc: 91.09\n"
     ]
    },
    {
     "name": "stderr",
     "output_type": "stream",
     "text": [
      "                                                                           \r"
     ]
    },
    {
     "name": "stdout",
     "output_type": "stream",
     "text": [
      "val Loss: 64.62 Acc: 87.62\n"
     ]
    },
    {
     "name": "stderr",
     "output_type": "stream",
     "text": [
      "                                                                            \r"
     ]
    },
    {
     "name": "stdout",
     "output_type": "stream",
     "text": [
      "Test Loss: 65.97 Acc: 87.21\n",
      "Test Precision: 85.34\n",
      "Test Recall: 84.41\n",
      "Test F1 Score: 84.85\n",
      "================================================================================\n",
      "Epoch 18/20\n",
      "================================================================================\n"
     ]
    },
    {
     "name": "stderr",
     "output_type": "stream",
     "text": [
      "                                                                            \r"
     ]
    },
    {
     "name": "stdout",
     "output_type": "stream",
     "text": [
      "train Loss: 42.67 Acc: 91.26\n"
     ]
    },
    {
     "name": "stderr",
     "output_type": "stream",
     "text": [
      "                                                                          \r"
     ]
    },
    {
     "name": "stdout",
     "output_type": "stream",
     "text": [
      "val Loss: 62.41 Acc: 87.68\n"
     ]
    },
    {
     "name": "stderr",
     "output_type": "stream",
     "text": [
      "                                                                            \r"
     ]
    },
    {
     "name": "stdout",
     "output_type": "stream",
     "text": [
      "Test Loss: 61.99 Acc: 87.60\n",
      "Test Precision: 85.31\n",
      "Test Recall: 85.71\n",
      "Test F1 Score: 85.51\n",
      "================================================================================\n",
      "Epoch 19/20\n",
      "================================================================================\n"
     ]
    },
    {
     "name": "stderr",
     "output_type": "stream",
     "text": [
      "                                                                            \r"
     ]
    },
    {
     "name": "stdout",
     "output_type": "stream",
     "text": [
      "train Loss: 42.19 Acc: 91.37\n"
     ]
    },
    {
     "name": "stderr",
     "output_type": "stream",
     "text": [
      "                                                                          \r"
     ]
    },
    {
     "name": "stdout",
     "output_type": "stream",
     "text": [
      "val Loss: 66.19 Acc: 86.25\n"
     ]
    },
    {
     "name": "stderr",
     "output_type": "stream",
     "text": [
      "                                                                           \r"
     ]
    },
    {
     "name": "stdout",
     "output_type": "stream",
     "text": [
      "Test Loss: 66.84 Acc: 86.40\n",
      "Test Precision: 83.79\n",
      "Test Recall: 84.56\n",
      "Test F1 Score: 84.15\n",
      "================================================================================\n",
      "Epoch 20/20\n",
      "================================================================================\n"
     ]
    },
    {
     "name": "stderr",
     "output_type": "stream",
     "text": [
      "                                                                            \r"
     ]
    },
    {
     "name": "stdout",
     "output_type": "stream",
     "text": [
      "train Loss: 41.28 Acc: 91.60\n"
     ]
    },
    {
     "name": "stderr",
     "output_type": "stream",
     "text": [
      "                                                                           \r"
     ]
    },
    {
     "name": "stdout",
     "output_type": "stream",
     "text": [
      "val Loss: 67.91 Acc: 86.99\n"
     ]
    },
    {
     "name": "stderr",
     "output_type": "stream",
     "text": [
      "                                                                            \r"
     ]
    },
    {
     "name": "stdout",
     "output_type": "stream",
     "text": [
      "Test Loss: 66.09 Acc: 87.25\n",
      "Test Precision: 86.09\n",
      "Test Recall: 83.21\n",
      "Test F1 Score: 84.43\n"
     ]
    }
   ],
   "source": [
    "# # Train the model\n",
    "# best_model, losses, accuracies, precisions, recalls, f1_scores = train_model(model, criterion, optimizer, scheduler, train_loader, val_loader, test_loader, device, num_epochs=NUM_EPOCHS)\n",
    "\n",
    "# Train the model\n",
    "best_model, losses, accuracies, precisions, recalls, f1_scores = train_model_siamese(model, criterion, optimizer, scheduler, train_loader, val_loader, test_loader, device, num_epochs=NUM_EPOCHS)"
   ]
  },
  {
   "cell_type": "code",
   "execution_count": 20,
   "metadata": {},
   "outputs": [
    {
     "name": "stdout",
     "output_type": "stream",
     "text": [
      "================================================================================\n",
      "Epoch 1/1\n",
      "================================================================================\n"
     ]
    },
    {
     "name": "stderr",
     "output_type": "stream",
     "text": [
      "                                                                            \r"
     ]
    },
    {
     "name": "stdout",
     "output_type": "stream",
     "text": [
      "train Loss: 66.52 Acc: 85.81\n"
     ]
    },
    {
     "name": "stderr",
     "output_type": "stream",
     "text": [
      "                                                                          \r"
     ]
    },
    {
     "name": "stdout",
     "output_type": "stream",
     "text": [
      "val Loss: 61.39 Acc: 87.03\n"
     ]
    },
    {
     "name": "stderr",
     "output_type": "stream",
     "text": [
      "                                                                           \r"
     ]
    },
    {
     "name": "stdout",
     "output_type": "stream",
     "text": [
      "Test Loss: 58.28 Acc: 87.70\n",
      "Test Precision: 85.92\n",
      "Test Recall: 84.98\n",
      "Test F1 Score: 85.43\n"
     ]
    }
   ],
   "source": [
    "# Train the model\n",
    "best_model, losses, accuracies, precisions, recalls, f1_scores = train_model_siamese(model, criterion, optimizer, scheduler, train_loader, val_loader, test_loader, device, num_epochs=1)"
   ]
  },
  {
   "cell_type": "code",
   "execution_count": 32,
   "metadata": {},
   "outputs": [],
   "source": [
    "# Save the best model\n",
    "# torch.save(best_model.state_dict(), MODEL_PATH + \"best_model.pth\")\n",
    "\n",
    "torch.save(best_model.state_dict(), f\"{MODEL_PATH}{model_type}/best_model{version}({model_type}).pth\")\n",
    "# torch.save(best_model, f\"{MODEL_PATH}{model_type}/best_model{version}({model_type}).pth\")"
   ]
  },
  {
   "cell_type": "code",
   "execution_count": 33,
   "metadata": {},
   "outputs": [],
   "source": [
    "def convert_accuracies_to_numpy_arrays(accuracies):\n",
    "    train_accuracies = np.array([tensor.cpu() for tensor in accuracies[\"train\"]])\n",
    "    val_accuracies = np.array([tensor.cpu() for tensor in accuracies[\"val\"]])\n",
    "    test_accuracies = np.array([tensor.cpu() for tensor in accuracies[\"test\"]])\n",
    "    return train_accuracies, val_accuracies, test_accuracies"
   ]
  },
  {
   "cell_type": "code",
   "execution_count": 34,
   "metadata": {},
   "outputs": [],
   "source": [
    "# Convert the losses to NumPy arrays\n",
    "train_losses = np.array(losses[\"train\"])\n",
    "val_losses = np.array(losses[\"val\"])\n",
    "test_losses = np.array(losses[\"test\"])\n",
    "\n",
    "# Convert te accuracies to NumPy arrays\n",
    "train_accuracies, val_accuracies, test_accuracies = convert_accuracies_to_numpy_arrays(accuracies)\n",
    "\n",
    "# Save the training and validation losses\n",
    "losses_df = pd.DataFrame({\"train_loss\": train_losses, \"val_loss\": val_losses, \"test_loss\": test_losses})\n",
    "losses_df.to_csv(f\"{LOSSES_PATH}{model_type}/losses{version}({model_type}).csv\", index=False)\n",
    "\n",
    "# Save the training and validation accuracies\n",
    "accuracies_df = pd.DataFrame({\"train_acc\": train_accuracies, \"val_acc\": val_accuracies, \"test_acc\": test_accuracies})\n",
    "accuracies_df.to_csv(f\"{LOSSES_PATH}{model_type}/accuracies{version}({model_type}).csv\", index=False)"
   ]
  },
  {
   "cell_type": "code",
   "execution_count": 35,
   "metadata": {},
   "outputs": [
    {
     "data": {
      "text/html": [
       "<div>\n",
       "<style scoped>\n",
       "    .dataframe tbody tr th:only-of-type {\n",
       "        vertical-align: middle;\n",
       "    }\n",
       "\n",
       "    .dataframe tbody tr th {\n",
       "        vertical-align: top;\n",
       "    }\n",
       "\n",
       "    .dataframe thead th {\n",
       "        text-align: right;\n",
       "    }\n",
       "</style>\n",
       "<table border=\"1\" class=\"dataframe\">\n",
       "  <thead>\n",
       "    <tr style=\"text-align: right;\">\n",
       "      <th></th>\n",
       "      <th>accuracy</th>\n",
       "      <th>loss</th>\n",
       "      <th>precison</th>\n",
       "      <th>recall</th>\n",
       "      <th>f1_scores</th>\n",
       "    </tr>\n",
       "  </thead>\n",
       "  <tbody>\n",
       "    <tr>\n",
       "      <th>0</th>\n",
       "      <td>87.27</td>\n",
       "      <td>59.54</td>\n",
       "      <td>85.26</td>\n",
       "      <td>84.67</td>\n",
       "      <td>84.95</td>\n",
       "    </tr>\n",
       "    <tr>\n",
       "      <th>1</th>\n",
       "      <td>87.24</td>\n",
       "      <td>59.20</td>\n",
       "      <td>86.38</td>\n",
       "      <td>83.04</td>\n",
       "      <td>84.42</td>\n",
       "    </tr>\n",
       "    <tr>\n",
       "      <th>2</th>\n",
       "      <td>88.19</td>\n",
       "      <td>55.69</td>\n",
       "      <td>86.46</td>\n",
       "      <td>85.25</td>\n",
       "      <td>85.81</td>\n",
       "    </tr>\n",
       "    <tr>\n",
       "      <th>3</th>\n",
       "      <td>88.09</td>\n",
       "      <td>56.82</td>\n",
       "      <td>86.64</td>\n",
       "      <td>84.87</td>\n",
       "      <td>85.67</td>\n",
       "    </tr>\n",
       "    <tr>\n",
       "      <th>4</th>\n",
       "      <td>87.73</td>\n",
       "      <td>57.96</td>\n",
       "      <td>86.36</td>\n",
       "      <td>84.23</td>\n",
       "      <td>85.17</td>\n",
       "    </tr>\n",
       "    <tr>\n",
       "      <th>5</th>\n",
       "      <td>86.97</td>\n",
       "      <td>60.48</td>\n",
       "      <td>84.26</td>\n",
       "      <td>86.60</td>\n",
       "      <td>85.22</td>\n",
       "    </tr>\n",
       "    <tr>\n",
       "      <th>6</th>\n",
       "      <td>87.88</td>\n",
       "      <td>57.48</td>\n",
       "      <td>85.60</td>\n",
       "      <td>85.94</td>\n",
       "      <td>85.77</td>\n",
       "    </tr>\n",
       "    <tr>\n",
       "      <th>7</th>\n",
       "      <td>87.99</td>\n",
       "      <td>57.42</td>\n",
       "      <td>86.36</td>\n",
       "      <td>85.02</td>\n",
       "      <td>85.64</td>\n",
       "    </tr>\n",
       "    <tr>\n",
       "      <th>8</th>\n",
       "      <td>87.93</td>\n",
       "      <td>58.24</td>\n",
       "      <td>85.94</td>\n",
       "      <td>85.69</td>\n",
       "      <td>85.81</td>\n",
       "    </tr>\n",
       "    <tr>\n",
       "      <th>9</th>\n",
       "      <td>87.83</td>\n",
       "      <td>59.49</td>\n",
       "      <td>85.76</td>\n",
       "      <td>85.62</td>\n",
       "      <td>85.69</td>\n",
       "    </tr>\n",
       "    <tr>\n",
       "      <th>10</th>\n",
       "      <td>87.60</td>\n",
       "      <td>62.16</td>\n",
       "      <td>85.50</td>\n",
       "      <td>84.82</td>\n",
       "      <td>85.14</td>\n",
       "    </tr>\n",
       "    <tr>\n",
       "      <th>11</th>\n",
       "      <td>87.05</td>\n",
       "      <td>61.87</td>\n",
       "      <td>84.71</td>\n",
       "      <td>85.60</td>\n",
       "      <td>85.13</td>\n",
       "    </tr>\n",
       "    <tr>\n",
       "      <th>12</th>\n",
       "      <td>87.71</td>\n",
       "      <td>60.11</td>\n",
       "      <td>85.92</td>\n",
       "      <td>84.73</td>\n",
       "      <td>85.29</td>\n",
       "    </tr>\n",
       "    <tr>\n",
       "      <th>13</th>\n",
       "      <td>87.31</td>\n",
       "      <td>60.34</td>\n",
       "      <td>85.73</td>\n",
       "      <td>84.14</td>\n",
       "      <td>84.86</td>\n",
       "    </tr>\n",
       "    <tr>\n",
       "      <th>14</th>\n",
       "      <td>87.31</td>\n",
       "      <td>63.86</td>\n",
       "      <td>85.09</td>\n",
       "      <td>85.20</td>\n",
       "      <td>85.14</td>\n",
       "    </tr>\n",
       "    <tr>\n",
       "      <th>15</th>\n",
       "      <td>86.99</td>\n",
       "      <td>64.60</td>\n",
       "      <td>84.59</td>\n",
       "      <td>85.97</td>\n",
       "      <td>85.22</td>\n",
       "    </tr>\n",
       "    <tr>\n",
       "      <th>16</th>\n",
       "      <td>87.21</td>\n",
       "      <td>65.97</td>\n",
       "      <td>85.34</td>\n",
       "      <td>84.41</td>\n",
       "      <td>84.85</td>\n",
       "    </tr>\n",
       "    <tr>\n",
       "      <th>17</th>\n",
       "      <td>87.60</td>\n",
       "      <td>61.99</td>\n",
       "      <td>85.31</td>\n",
       "      <td>85.71</td>\n",
       "      <td>85.51</td>\n",
       "    </tr>\n",
       "    <tr>\n",
       "      <th>18</th>\n",
       "      <td>86.40</td>\n",
       "      <td>66.84</td>\n",
       "      <td>83.79</td>\n",
       "      <td>84.56</td>\n",
       "      <td>84.15</td>\n",
       "    </tr>\n",
       "    <tr>\n",
       "      <th>19</th>\n",
       "      <td>87.25</td>\n",
       "      <td>66.09</td>\n",
       "      <td>86.09</td>\n",
       "      <td>83.21</td>\n",
       "      <td>84.43</td>\n",
       "    </tr>\n",
       "  </tbody>\n",
       "</table>\n",
       "</div>"
      ],
      "text/plain": [
       "    accuracy   loss  precison  recall  f1_scores\n",
       "0      87.27  59.54     85.26   84.67      84.95\n",
       "1      87.24  59.20     86.38   83.04      84.42\n",
       "2      88.19  55.69     86.46   85.25      85.81\n",
       "3      88.09  56.82     86.64   84.87      85.67\n",
       "4      87.73  57.96     86.36   84.23      85.17\n",
       "5      86.97  60.48     84.26   86.60      85.22\n",
       "6      87.88  57.48     85.60   85.94      85.77\n",
       "7      87.99  57.42     86.36   85.02      85.64\n",
       "8      87.93  58.24     85.94   85.69      85.81\n",
       "9      87.83  59.49     85.76   85.62      85.69\n",
       "10     87.60  62.16     85.50   84.82      85.14\n",
       "11     87.05  61.87     84.71   85.60      85.13\n",
       "12     87.71  60.11     85.92   84.73      85.29\n",
       "13     87.31  60.34     85.73   84.14      84.86\n",
       "14     87.31  63.86     85.09   85.20      85.14\n",
       "15     86.99  64.60     84.59   85.97      85.22\n",
       "16     87.21  65.97     85.34   84.41      84.85\n",
       "17     87.60  61.99     85.31   85.71      85.51\n",
       "18     86.40  66.84     83.79   84.56      84.15\n",
       "19     87.25  66.09     86.09   83.21      84.43"
      ]
     },
     "execution_count": 35,
     "metadata": {},
     "output_type": "execute_result"
    }
   ],
   "source": [
    "# Metrics from the test\n",
    "metrics_dict = {\n",
    "    \"accuracy\" : [round(accuracy * 100, 2) for accuracy in test_accuracies],\n",
    "    \"loss\" : [round(loss * 100, 2) for loss in test_losses],\n",
    "    \"precison\" : [round(precise * 100, 2) for precise in precisions],\n",
    "    \"recall\" : [round(recall * 100, 2) for recall in recalls],\n",
    "    \"f1_scores\" : [round(f1 * 100, 2) for f1 in f1_scores],\n",
    "}\n",
    "\n",
    "metrics = pd.DataFrame(metrics_dict)\n",
    "metrics.to_csv(f\"{MODEL_PATH}{model_type}/metrics{version}({model_type}).csv\", index=False)\n",
    "metrics"
   ]
  },
  {
   "cell_type": "code",
   "execution_count": 36,
   "metadata": {},
   "outputs": [
    {
     "data": {
      "image/png": "[encoded data removed]",
      "text/plain": [
       "<Figure size 640x480 with 1 Axes>"
      ]
     },
     "metadata": {},
     "output_type": "display_data"
    }
   ],
   "source": [
    "# Plot the accuracy\n",
    "plt.plot(train_accuracies, label=\"Train\")\n",
    "plt.plot(val_accuracies, label=\"Validation\")\n",
    "plt.plot(test_accuracies, label=\"Test\")\n",
    "plt.xticks(np.arange(len(test_accuracies)))\n",
    "plt.xlabel(\"Epoch\")\n",
    "plt.ylabel(\"Accuracy\")\n",
    "plt.title(\"Training, Validation and Testing Accuracy\")\n",
    "plt.legend();"
   ]
  },
  {
   "cell_type": "code",
   "execution_count": 37,
   "metadata": {},
   "outputs": [
    {
     "data": {
      "image/png": "[encoded data removed]",
      "text/plain": [
       "<Figure size 640x480 with 1 Axes>"
      ]
     },
     "metadata": {},
     "output_type": "display_data"
    }
   ],
   "source": [
    "# Plot the losses\n",
    "plt.plot(train_losses, label=\"Train\")\n",
    "plt.plot(val_losses, label=\"Validation\")\n",
    "plt.plot(test_losses, label=\"Test\")\n",
    "plt.xticks(np.arange(len(test_losses)))\n",
    "plt.xlabel(\"Epoch\")\n",
    "plt.ylabel(\"Loss\")\n",
    "plt.title(\"Training, Validation and Testing Losses\")\n",
    "plt.legend();"
   ]
  },
  {
   "cell_type": "code",
   "execution_count": null,
   "metadata": {},
   "outputs": [],
   "source": []
  }
 ],
 "metadata": {
  "kernelspec": {
   "display_name": "base",
   "language": "python",
   "name": "python3"
  },
  "language_info": {
   "codemirror_mode": {
    "name": "ipython",
    "version": 3
   },
   "file_extension": ".py",
   "mimetype": "text/x-python",
   "name": "python",
   "nbconvert_exporter": "python",
   "pygments_lexer": "ipython3",
   "version": "3.10.12"
  },
  "orig_nbformat": 4
 },
 "nbformat": 4,
 "nbformat_minor": 2
}
